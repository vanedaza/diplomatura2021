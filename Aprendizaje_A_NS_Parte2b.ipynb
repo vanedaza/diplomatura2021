{
 "cells": [
  {
   "cell_type": "markdown",
   "metadata": {},
   "source": [
    "# <p style=\"text-align:center;\">Supervisado</p>"
   ]
  },
  {
   "cell_type": "markdown",
   "metadata": {},
   "source": [
    "**Todo ejercicio debe tener un análisis fundamentado en la teoría vista en la materia, dicho análisis sera parte del informe a entregar en pdf**\n",
    "\n",
    "<span style=\"color:blue\">*Se recomienda hacer uso de las herramientas vistas en los demos de la materia.*</span>"
   ]
  },
  {
   "cell_type": "markdown",
   "metadata": {},
   "source": [
    "**Objetivos:** \n",
    "- Implementar los modelos random forest y redes neuronales para clasificar las galaxias en tipo Elípticas, Espirales e Irregulares\n",
    "- Comparar la performance obtenida con los modelos vistos en el anterior práctico y los nuevos modelos de este práctico."
   ]
  },
  {
   "cell_type": "markdown",
   "metadata": {},
   "source": [
    "# Paquetes necesarios "
   ]
  },
  {
   "cell_type": "markdown",
   "metadata": {},
   "source": [
    "# Data set\n",
    "\n",
    "Se continua con el dataset previamente curado y usado en el anterior práctico. \n",
    "Las variables físicas que caracterizan a las galaxias son:\n",
    "- **distancia_L**: Es la distancia a la galaxia, su calculo hace uso del brillo de la galaxia\n",
    "- **Mag_abs**: Es el brillo que tendría la galaxia a una distancia fija (10 Mpc)\n",
    "- **objID**: Es el id de las galaxias\n",
    "- **rac y dec** = Posición angular, rac de 0 a 360 y dec de -90 a 90\n",
    "- **modelMag_u,modelMag_g, modelMag_r,modelMag_i,modelMag_z**= Estas variables representan una fracción de la luz total que observamos de las galaxias según su frecuencia (como por ejemplo, la frecuencia de radio, para más información [wiki](https://es.wikipedia.org/wiki/Espectro_visible))\n",
    "- **petroR90_r** = Es una medida del tamaño de la galaxia\n",
    "- **color**= Como su nombre lo indica es el color más predominante en la galaxia\n",
    "- **elíptica, espiral, irregular**= Estas columnas identifican el tipo de morfología de las galaxias. Si el valor de una de estas tres columnas es 1, entonces la galaxia tiene esa morfología y las dos restantes tendrán el valor 0. \n"
   ]
  },
  {
   "cell_type": "markdown",
   "metadata": {},
   "source": [
    "\n",
    "<span style=\"color:red\">**Cargue el conjunto de datos obtenido en la parte1.**</span>  \n"
   ]
  },
  {
   "cell_type": "code",
   "execution_count": 37,
   "metadata": {},
   "outputs": [
    {
     "data": {
      "text/html": [
       "<div>\n",
       "<style scoped>\n",
       "    .dataframe tbody tr th:only-of-type {\n",
       "        vertical-align: middle;\n",
       "    }\n",
       "\n",
       "    .dataframe tbody tr th {\n",
       "        vertical-align: top;\n",
       "    }\n",
       "\n",
       "    .dataframe thead th {\n",
       "        text-align: right;\n",
       "    }\n",
       "</style>\n",
       "<table border=\"1\" class=\"dataframe\">\n",
       "  <thead>\n",
       "    <tr style=\"text-align: right;\">\n",
       "      <th></th>\n",
       "      <th>objID</th>\n",
       "      <th>ra</th>\n",
       "      <th>dec</th>\n",
       "      <th>modelMag_u</th>\n",
       "      <th>modelMag_g</th>\n",
       "      <th>modelMag_r</th>\n",
       "      <th>modelMag_i</th>\n",
       "      <th>modelMag_z</th>\n",
       "      <th>petroR90_r</th>\n",
       "      <th>Color</th>\n",
       "      <th>elliptical</th>\n",
       "      <th>spiral</th>\n",
       "      <th>uncertain</th>\n",
       "      <th>distancia_L</th>\n",
       "      <th>Mag_abs</th>\n",
       "    </tr>\n",
       "  </thead>\n",
       "  <tbody>\n",
       "    <tr>\n",
       "      <th>0</th>\n",
       "      <td>1.237674e+18</td>\n",
       "      <td>119.822479</td>\n",
       "      <td>42.008528</td>\n",
       "      <td>17.36539</td>\n",
       "      <td>15.46586</td>\n",
       "      <td>14.54658</td>\n",
       "      <td>14.07490</td>\n",
       "      <td>13.69937</td>\n",
       "      <td>18.121160</td>\n",
       "      <td>-2.818807</td>\n",
       "      <td>1.0</td>\n",
       "      <td>0.0</td>\n",
       "      <td>0.0</td>\n",
       "      <td>135.131916</td>\n",
       "      <td>-21.191136</td>\n",
       "    </tr>\n",
       "    <tr>\n",
       "      <th>1</th>\n",
       "      <td>1.237674e+18</td>\n",
       "      <td>118.185239</td>\n",
       "      <td>33.699089</td>\n",
       "      <td>19.95136</td>\n",
       "      <td>18.35397</td>\n",
       "      <td>17.54043</td>\n",
       "      <td>17.05026</td>\n",
       "      <td>16.71222</td>\n",
       "      <td>3.657189</td>\n",
       "      <td>-2.410933</td>\n",
       "      <td>0.0</td>\n",
       "      <td>0.0</td>\n",
       "      <td>1.0</td>\n",
       "      <td>153.893111</td>\n",
       "      <td>-18.473102</td>\n",
       "    </tr>\n",
       "  </tbody>\n",
       "</table>\n",
       "</div>"
      ],
      "text/plain": [
       "          objID          ra        dec  modelMag_u  modelMag_g  modelMag_r  \\\n",
       "0  1.237674e+18  119.822479  42.008528    17.36539    15.46586    14.54658   \n",
       "1  1.237674e+18  118.185239  33.699089    19.95136    18.35397    17.54043   \n",
       "\n",
       "   modelMag_i  modelMag_z  petroR90_r     Color  elliptical  spiral  \\\n",
       "0    14.07490    13.69937   18.121160 -2.818807         1.0     0.0   \n",
       "1    17.05026    16.71222    3.657189 -2.410933         0.0     0.0   \n",
       "\n",
       "   uncertain  distancia_L    Mag_abs  \n",
       "0        0.0   135.131916 -21.191136  \n",
       "1        1.0   153.893111 -18.473102  "
      ]
     },
     "metadata": {},
     "output_type": "display_data"
    },
    {
     "data": {
      "text/plain": [
       "(32623, 15)"
      ]
     },
     "metadata": {},
     "output_type": "display_data"
    }
   ],
   "source": [
    "dataset=pd.read_csv('galaxias_?.csv')\n",
    "display(dataset.head(2))\n",
    "display(dataset.shape)"
   ]
  },
  {
   "cell_type": "markdown",
   "metadata": {},
   "source": [
    "# Target"
   ]
  },
  {
   "cell_type": "markdown",
   "metadata": {},
   "source": [
    "Usen como Target la clase de tipo morfológico de las galaxias."
   ]
  },
  {
   "cell_type": "markdown",
   "metadata": {},
   "source": [
    "# División en entrenamiento y evaluación\n",
    "   - Realizar la respectiva división conjunto de *train* y *test*."
   ]
  },
  {
   "cell_type": "markdown",
   "metadata": {},
   "source": [
    "# Radom Forest (RF)"
   ]
  },
  {
   "cell_type": "markdown",
   "metadata": {},
   "source": [
    "- Seleccione de variables fisicas e implente RF para la clasificación morfologica."
   ]
  },
  {
   "cell_type": "markdown",
   "metadata": {},
   "source": [
    "# Neural Networks"
   ]
  },
  {
   "cell_type": "markdown",
   "metadata": {},
   "source": [
    "Entrene una red neuronal convolucional sobre el conjunto de imágenes."
   ]
  },
  {
   "cell_type": "markdown",
   "metadata": {},
   "source": [
    "# Conclusiones"
   ]
  }
 ],
 "metadata": {
  "kernelspec": {
   "display_name": "Python 3",
   "language": "python",
   "name": "python3"
  },
  "language_info": {
   "codemirror_mode": {
    "name": "ipython",
    "version": 3
   },
   "file_extension": ".py",
   "mimetype": "text/x-python",
   "name": "python",
   "nbconvert_exporter": "python",
   "pygments_lexer": "ipython3",
   "version": "3.8.3"
  }
 },
 "nbformat": 4,
 "nbformat_minor": 4
}
